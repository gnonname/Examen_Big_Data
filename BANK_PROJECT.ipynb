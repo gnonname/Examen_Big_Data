{
  "nbformat": 4,
  "nbformat_minor": 0,
  "metadata": {
    "colab": {
      "name": "BANK_PROJECT.ipynb",
      "provenance": [],
      "authorship_tag": "ABX9TyMStkR8f8VCANk/EyhAMRdF",
      "include_colab_link": true
    },
    "kernelspec": {
      "name": "python3",
      "display_name": "Python 3"
    },
    "language_info": {
      "name": "python"
    }
  },
  "cells": [
    {
      "cell_type": "markdown",
      "metadata": {
        "id": "view-in-github",
        "colab_type": "text"
      },
      "source": [
        "<a href=\"https://colab.research.google.com/github/gnonname/Examen_Big_Data/blob/main/BANK_PROJECT.ipynb\" target=\"_parent\"><img src=\"https://colab.research.google.com/assets/colab-badge.svg\" alt=\"Open In Colab\"/></a>"
      ]
    },
    {
      "cell_type": "markdown",
      "metadata": {
        "id": "OxUNMoLdvDbw"
      },
      "source": [
        "## We're Charging some needed library"
      ]
    },
    {
      "cell_type": "code",
      "metadata": {
        "id": "9AgvKXwhuzJj"
      },
      "source": [
        "import numpy as np\n",
        "import pandas as pd\n",
        "import matplotlib.pyplot as plt\n",
        "import seaborn as sns"
      ],
      "execution_count": null,
      "outputs": []
    },
    {
      "cell_type": "code",
      "metadata": {
        "id": "TttQ5JmfvSqk"
      },
      "source": [
        "data = pd.read_csv(\"Banques.csv\")\n"
      ],
      "execution_count": null,
      "outputs": []
    },
    {
      "cell_type": "markdown",
      "metadata": {
        "id": "WKYQ-ubmw5tP"
      },
      "source": [
        "### Preprocessing"
      ]
    },
    {
      "cell_type": "code",
      "metadata": {
        "colab": {
          "base_uri": "https://localhost:8080/",
          "height": 278
        },
        "id": "RQuOzGrew-Es",
        "outputId": "58d4ce90-7187-4e4e-c26b-8931f1a96d8f"
      },
      "source": [
        "df = data.copy()\n",
        "df.head()"
      ],
      "execution_count": null,
      "outputs": [
        {
          "output_type": "execute_result",
          "data": {
            "text/html": [
              "<div>\n",
              "<style scoped>\n",
              "    .dataframe tbody tr th:only-of-type {\n",
              "        vertical-align: middle;\n",
              "    }\n",
              "\n",
              "    .dataframe tbody tr th {\n",
              "        vertical-align: top;\n",
              "    }\n",
              "\n",
              "    .dataframe thead th {\n",
              "        text-align: right;\n",
              "    }\n",
              "</style>\n",
              "<table border=\"1\" class=\"dataframe\">\n",
              "  <thead>\n",
              "    <tr style=\"text-align: right;\">\n",
              "      <th></th>\n",
              "      <th>Age</th>\n",
              "      <th>Sexe</th>\n",
              "      <th>Statut_matrimonial</th>\n",
              "      <th>Avez-vous un handicap</th>\n",
              "      <th>Niveau d'instruction</th>\n",
              "      <th>Nationalite</th>\n",
              "      <th>Langues parlees</th>\n",
              "      <th>Loisirs</th>\n",
              "      <th>Revenu</th>\n",
              "      <th>Profession</th>\n",
              "      <th>Logement</th>\n",
              "      <th>Milieu d'habitation</th>\n",
              "      <th>Etat Sante</th>\n",
              "      <th>Vehicule</th>\n",
              "      <th>NPAcharge</th>\n",
              "      <th>Biens_immobiliers</th>\n",
              "      <th>Antecedent judiciaire</th>\n",
              "      <th>Type de delit</th>\n",
              "      <th>Activite Secondaire</th>\n",
              "      <th>Accident</th>\n",
              "      <th>Deja Pris un credit</th>\n",
              "      <th>Favorable_au_credit</th>\n",
              "      <th>Disposez_compte_banque</th>\n",
              "      <th>Type_compte</th>\n",
              "      <th>Favorable_carte_bancaire</th>\n",
              "      <th>Etes_vous_assurez</th>\n",
              "      <th>NB_transactions_mensuelles</th>\n",
              "      <th>Montant_Plus_Eleve_Compte</th>\n",
              "      <th>Compte_en_commun</th>\n",
              "      <th>Compte_autre_banque</th>\n",
              "      <th>Credit_ autre_banque</th>\n",
              "      <th>Telephone_portable</th>\n",
              "      <th>Compte_facebook</th>\n",
              "      <th>Bon_client</th>\n",
              "    </tr>\n",
              "  </thead>\n",
              "  <tbody>\n",
              "    <tr>\n",
              "      <th>0</th>\n",
              "      <td>5</td>\n",
              "      <td>2</td>\n",
              "      <td>4</td>\n",
              "      <td>2</td>\n",
              "      <td>3</td>\n",
              "      <td>1</td>\n",
              "      <td>1</td>\n",
              "      <td>4</td>\n",
              "      <td>4</td>\n",
              "      <td>1</td>\n",
              "      <td>1</td>\n",
              "      <td>2</td>\n",
              "      <td>5</td>\n",
              "      <td>1</td>\n",
              "      <td>17</td>\n",
              "      <td>1</td>\n",
              "      <td>2</td>\n",
              "      <td>7</td>\n",
              "      <td>2</td>\n",
              "      <td>2</td>\n",
              "      <td>2</td>\n",
              "      <td>1</td>\n",
              "      <td>1</td>\n",
              "      <td>2</td>\n",
              "      <td>2</td>\n",
              "      <td>1</td>\n",
              "      <td>20</td>\n",
              "      <td>3</td>\n",
              "      <td>2</td>\n",
              "      <td>2</td>\n",
              "      <td>2</td>\n",
              "      <td>1</td>\n",
              "      <td>2</td>\n",
              "      <td>0</td>\n",
              "    </tr>\n",
              "    <tr>\n",
              "      <th>1</th>\n",
              "      <td>1</td>\n",
              "      <td>2</td>\n",
              "      <td>4</td>\n",
              "      <td>1</td>\n",
              "      <td>1</td>\n",
              "      <td>2</td>\n",
              "      <td>1</td>\n",
              "      <td>7</td>\n",
              "      <td>5</td>\n",
              "      <td>4</td>\n",
              "      <td>2</td>\n",
              "      <td>1</td>\n",
              "      <td>5</td>\n",
              "      <td>2</td>\n",
              "      <td>11</td>\n",
              "      <td>2</td>\n",
              "      <td>1</td>\n",
              "      <td>5</td>\n",
              "      <td>1</td>\n",
              "      <td>1</td>\n",
              "      <td>2</td>\n",
              "      <td>2</td>\n",
              "      <td>2</td>\n",
              "      <td>7</td>\n",
              "      <td>7</td>\n",
              "      <td>2</td>\n",
              "      <td>77</td>\n",
              "      <td>7</td>\n",
              "      <td>2</td>\n",
              "      <td>2</td>\n",
              "      <td>2</td>\n",
              "      <td>2</td>\n",
              "      <td>1</td>\n",
              "      <td>0</td>\n",
              "    </tr>\n",
              "    <tr>\n",
              "      <th>2</th>\n",
              "      <td>4</td>\n",
              "      <td>1</td>\n",
              "      <td>5</td>\n",
              "      <td>1</td>\n",
              "      <td>2</td>\n",
              "      <td>2</td>\n",
              "      <td>1</td>\n",
              "      <td>2</td>\n",
              "      <td>6</td>\n",
              "      <td>2</td>\n",
              "      <td>1</td>\n",
              "      <td>2</td>\n",
              "      <td>1</td>\n",
              "      <td>2</td>\n",
              "      <td>6</td>\n",
              "      <td>1</td>\n",
              "      <td>1</td>\n",
              "      <td>4</td>\n",
              "      <td>2</td>\n",
              "      <td>1</td>\n",
              "      <td>1</td>\n",
              "      <td>2</td>\n",
              "      <td>2</td>\n",
              "      <td>7</td>\n",
              "      <td>7</td>\n",
              "      <td>1</td>\n",
              "      <td>77</td>\n",
              "      <td>7</td>\n",
              "      <td>2</td>\n",
              "      <td>2</td>\n",
              "      <td>2</td>\n",
              "      <td>1</td>\n",
              "      <td>2</td>\n",
              "      <td>0</td>\n",
              "    </tr>\n",
              "    <tr>\n",
              "      <th>3</th>\n",
              "      <td>1</td>\n",
              "      <td>2</td>\n",
              "      <td>3</td>\n",
              "      <td>1</td>\n",
              "      <td>1</td>\n",
              "      <td>2</td>\n",
              "      <td>2</td>\n",
              "      <td>6</td>\n",
              "      <td>6</td>\n",
              "      <td>7</td>\n",
              "      <td>3</td>\n",
              "      <td>2</td>\n",
              "      <td>4</td>\n",
              "      <td>1</td>\n",
              "      <td>9</td>\n",
              "      <td>1</td>\n",
              "      <td>2</td>\n",
              "      <td>7</td>\n",
              "      <td>1</td>\n",
              "      <td>1</td>\n",
              "      <td>2</td>\n",
              "      <td>2</td>\n",
              "      <td>1</td>\n",
              "      <td>2</td>\n",
              "      <td>1</td>\n",
              "      <td>2</td>\n",
              "      <td>19</td>\n",
              "      <td>4</td>\n",
              "      <td>2</td>\n",
              "      <td>1</td>\n",
              "      <td>2</td>\n",
              "      <td>2</td>\n",
              "      <td>1</td>\n",
              "      <td>1</td>\n",
              "    </tr>\n",
              "    <tr>\n",
              "      <th>4</th>\n",
              "      <td>5</td>\n",
              "      <td>1</td>\n",
              "      <td>5</td>\n",
              "      <td>2</td>\n",
              "      <td>4</td>\n",
              "      <td>1</td>\n",
              "      <td>2</td>\n",
              "      <td>10</td>\n",
              "      <td>6</td>\n",
              "      <td>9</td>\n",
              "      <td>3</td>\n",
              "      <td>1</td>\n",
              "      <td>1</td>\n",
              "      <td>1</td>\n",
              "      <td>8</td>\n",
              "      <td>1</td>\n",
              "      <td>2</td>\n",
              "      <td>7</td>\n",
              "      <td>2</td>\n",
              "      <td>1</td>\n",
              "      <td>1</td>\n",
              "      <td>2</td>\n",
              "      <td>1</td>\n",
              "      <td>2</td>\n",
              "      <td>2</td>\n",
              "      <td>1</td>\n",
              "      <td>7</td>\n",
              "      <td>3</td>\n",
              "      <td>1</td>\n",
              "      <td>1</td>\n",
              "      <td>2</td>\n",
              "      <td>2</td>\n",
              "      <td>1</td>\n",
              "      <td>1</td>\n",
              "    </tr>\n",
              "  </tbody>\n",
              "</table>\n",
              "</div>"
            ],
            "text/plain": [
              "   Age  Sexe  ...  Compte_facebook  Bon_client\n",
              "0    5     2  ...                2           0\n",
              "1    1     2  ...                1           0\n",
              "2    4     1  ...                2           0\n",
              "3    1     2  ...                1           1\n",
              "4    5     1  ...                1           1\n",
              "\n",
              "[5 rows x 34 columns]"
            ]
          },
          "metadata": {},
          "execution_count": 12
        }
      ]
    },
    {
      "cell_type": "code",
      "metadata": {
        "id": "my6kqJGxxObk"
      },
      "source": [
        "missing_rate = df.isna().sum()/df.shape[0]"
      ],
      "execution_count": null,
      "outputs": []
    },
    {
      "cell_type": "code",
      "metadata": {
        "colab": {
          "base_uri": "https://localhost:8080/"
        },
        "id": "0_rpvuSMxNA0",
        "outputId": "3cab0821-acf8-408d-b82f-756721623a04"
      },
      "source": [
        "missing_rate"
      ],
      "execution_count": null,
      "outputs": [
        {
          "output_type": "execute_result",
          "data": {
            "text/plain": [
              "Age                           0.0\n",
              "Sexe                          0.0\n",
              "Statut_matrimonial            0.0\n",
              "Avez-vous un handicap         0.0\n",
              "Niveau d'instruction          0.0\n",
              "Nationalite                   0.0\n",
              "Langues parlees               0.0\n",
              "Loisirs                       0.0\n",
              "Revenu                        0.0\n",
              "Profession                    0.0\n",
              "Logement                      0.0\n",
              "Milieu d'habitation           0.0\n",
              "Etat Sante                    0.0\n",
              "Vehicule                      0.0\n",
              "NPAcharge                     0.0\n",
              "Biens_immobiliers             0.0\n",
              "Antecedent judiciaire         0.0\n",
              "Type de delit                 0.0\n",
              "Activite Secondaire           0.0\n",
              "Accident                      0.0\n",
              "Deja Pris un credit           0.0\n",
              "Favorable_au_credit           0.0\n",
              "Disposez_compte_banque        0.0\n",
              "Type_compte                   0.0\n",
              "Favorable_carte_bancaire      0.0\n",
              "Etes_vous_assurez             0.0\n",
              "NB_transactions_mensuelles    0.0\n",
              "Montant_Plus_Eleve_Compte     0.0\n",
              "Compte_en_commun              0.0\n",
              "Compte_autre_banque           0.0\n",
              "Credit_ autre_banque          0.0\n",
              "Telephone_portable            0.0\n",
              "Compte_facebook               0.0\n",
              "Bon_client                    0.0\n",
              "dtype: float64"
            ]
          },
          "metadata": {},
          "execution_count": 14
        }
      ]
    },
    {
      "cell_type": "code",
      "metadata": {
        "id": "Tq1o4lirxj11"
      },
      "source": [
        "from sklearn.model_selection import train_test_split"
      ],
      "execution_count": null,
      "outputs": []
    },
    {
      "cell_type": "code",
      "metadata": {
        "id": "LMyL8FdcxrYX"
      },
      "source": [
        "trainset, testset = train_test_split(df, test_size=0.2, random_state=0)"
      ],
      "execution_count": null,
      "outputs": []
    },
    {
      "cell_type": "code",
      "metadata": {
        "colab": {
          "base_uri": "https://localhost:8080/"
        },
        "id": "Ikv9ruiWx40n",
        "outputId": "4c670c69-56d9-4dd2-99b5-4d1764187e75"
      },
      "source": [
        "trainset['Bon_client'].value_counts()"
      ],
      "execution_count": null,
      "outputs": [
        {
          "output_type": "execute_result",
          "data": {
            "text/plain": [
              "1    10761\n",
              "0    10640\n",
              "Name: Bon_client, dtype: int64"
            ]
          },
          "metadata": {},
          "execution_count": 17
        }
      ]
    },
    {
      "cell_type": "code",
      "metadata": {
        "id": "XlsUoZyuyLYb"
      },
      "source": [
        "from sklearn.tree import DecisionTreeClassifier\n",
        "from sklearn.ensemble import RandomForestClassifier\n",
        "from sklearn.pipeline import make_pipeline\n",
        "from sklearn.feature_selection import SelectKBest, f_classif\n",
        "from sklearn.preprocessing import PolynomialFeatures\n",
        "from sklearn.decomposition import PCA"
      ],
      "execution_count": null,
      "outputs": []
    },
    {
      "cell_type": "code",
      "metadata": {
        "id": "oMSfImeUyOP0"
      },
      "source": [
        "model_1 = RandomForestClassifier(random_state=0)\u0001"
      ],
      "execution_count": null,
      "outputs": []
    },
    {
      "cell_type": "code",
      "metadata": {
        "id": "zdiy9fOYyRG0"
      },
      "source": [
        "from sklearn.metrics import f1_score, confusion_matrix, classification_report\n",
        "from sklearn.model_selection import learning_curve"
      ],
      "execution_count": null,
      "outputs": []
    },
    {
      "cell_type": "code",
      "metadata": {
        "id": "XNusDazL1nPM"
      },
      "source": [
        "def preprocessing(df):\n",
        "    \n",
        "    #df = encodage(df)\n",
        "    #df = feature_engineering(df)\n",
        "    #df = imputation(df)\n",
        "    \n",
        "    X = df.drop('Bon_client', axis=1)\n",
        "    y = df['Bon_client']\n",
        "    \n",
        "    print(y.value_counts())\n",
        "    \n",
        "    return X, y"
      ],
      "execution_count": null,
      "outputs": []
    },
    {
      "cell_type": "code",
      "metadata": {
        "colab": {
          "base_uri": "https://localhost:8080/"
        },
        "id": "q2hCElWu2BXU",
        "outputId": "8842cb7d-a399-4d8d-b9cc-781401bf34cd"
      },
      "source": [
        "X_train, y_train = preprocessing(trainset)"
      ],
      "execution_count": null,
      "outputs": [
        {
          "output_type": "stream",
          "name": "stdout",
          "text": [
            "1    10761\n",
            "0    10640\n",
            "Name: Bon_client, dtype: int64\n"
          ]
        }
      ]
    },
    {
      "cell_type": "code",
      "metadata": {
        "colab": {
          "base_uri": "https://localhost:8080/"
        },
        "id": "qumQYe2F2s6f",
        "outputId": "cc62e0b4-f197-4393-be6f-7de418956b9a"
      },
      "source": [
        "X_test, y_test = preprocessing(testset)"
      ],
      "execution_count": null,
      "outputs": [
        {
          "output_type": "stream",
          "name": "stdout",
          "text": [
            "1    2677\n",
            "0    2674\n",
            "Name: Bon_client, dtype: int64\n"
          ]
        }
      ]
    },
    {
      "cell_type": "code",
      "metadata": {
        "id": "PvAVDdeWygfz"
      },
      "source": [
        "def evaluation(model):\n",
        "    \n",
        "    model.fit(X_train, y_train)\n",
        "    ypred = model.predict(X_test)\n",
        "    \n",
        "    print(confusion_matrix(y_test, ypred))\n",
        "    print(classification_report(y_test, ypred))\n",
        "    \n",
        "    N, train_score, val_score = learning_curve(model, X_train, y_train,\n",
        "                                              cv=4, scoring='f1',\n",
        "                                               train_sizes=np.linspace(0.1, 1, 10))\n",
        "    \n",
        "    \n",
        "    plt.figure(figsize=(12, 8))\n",
        "    plt.plot(N, train_score.mean(axis=1), label='train score')\n",
        "    plt.plot(N, val_score.mean(axis=1), label='validation score')\n",
        "    plt.legend()"
      ],
      "execution_count": null,
      "outputs": []
    },
    {
      "cell_type": "code",
      "metadata": {
        "colab": {
          "base_uri": "https://localhost:8080/",
          "height": 674
        },
        "id": "_p3BV3oPypdY",
        "outputId": "dca5787b-9e39-448a-975a-324faf440f99"
      },
      "source": [
        "evaluation(model_1)"
      ],
      "execution_count": null,
      "outputs": [
        {
          "output_type": "stream",
          "name": "stdout",
          "text": [
            "[[1374 1300]\n",
            " [1376 1301]]\n",
            "              precision    recall  f1-score   support\n",
            "\n",
            "           0       0.50      0.51      0.51      2674\n",
            "           1       0.50      0.49      0.49      2677\n",
            "\n",
            "    accuracy                           0.50      5351\n",
            "   macro avg       0.50      0.50      0.50      5351\n",
            "weighted avg       0.50      0.50      0.50      5351\n",
            "\n"
          ]
        },
        {
          "output_type": "display_data",
          "data": {
            "image/png": "[encoded data removed]",
            "text/plain": [
              "<Figure size 864x576 with 1 Axes>"
            ]
          },
          "metadata": {
            "needs_background": "light"
          }
        }
      ]
    },
    {
      "cell_type": "code",
      "metadata": {
        "id": "ywRaV4Vc3Bg5"
      },
      "source": [
        ""
      ],
      "execution_count": null,
      "outputs": []
    },
    {
      "cell_type": "code",
      "metadata": {
        "id": "GWqsIOICyScf"
      },
      "source": [
        "from sklearn.metrics import f1_score, confusion_matrix, classification_report\n",
        "from sklearn.model_selection import learning_curve"
      ],
      "execution_count": 1,
      "outputs": []
    },
    {
      "cell_type": "code",
      "metadata": {
        "id": "tmXDVAJsyVnQ"
      },
      "source": [
        ""
      ],
      "execution_count": null,
      "outputs": []
    }
  ]
}